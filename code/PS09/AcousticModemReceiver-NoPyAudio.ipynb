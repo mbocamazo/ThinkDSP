{
 "metadata": {
  "name": "",
  "signature": "sha256:1a2e0f19baca699b608762def09ea58b87744c8ece760d1c266d032162b73059"
 },
 "nbformat": 3,
 "nbformat_minor": 0,
 "worksheets": [
  {
   "cells": [
    {
     "cell_type": "code",
     "collapsed": false,
     "input": [
      "from scipy.io import wavfile\n",
      "import numpy as np\n",
      "import matplotlib.pyplot as mplib\n",
      "import thinkdsp\n",
      "from array import array\n",
      "%matplotlib inline\n",
      "\n",
      "# This function converts a string into a numpy array of bits\n",
      "# note that it is assumed that each character is 7 bits long here\n",
      "def string2NPArray(s):\n",
      "    bits = np.array([])\n",
      "    for a in bytearray(s, 'ascii'):\n",
      "        for b in range(0,7):\n",
      "            bits = np.append(bits,float((a>>(7-b-1))&1))\n",
      "    return bits\n",
      "\n",
      "# This function converts a numpy array of bits to a string\n",
      "# note that it is assumed that each character is 7 bits long here\n",
      "def NPbits2String(bits):\n",
      "    S = \"\"\n",
      "    for a in np.arange(0, np.ceil(len(bits)/7)):\n",
      "        tmp = 0\n",
      "        for k in np.arange(0,7):\n",
      "            b = bits[int(a*7+k)]\n",
      "            tmp = tmp + (2**(6-k))*b\n",
      "        S = S + chr(int(tmp))\n",
      "    return S\n",
      "\n",
      "# this function is used to help convert numpy array data into a format\n",
      "# suitable for writing into a wave file\n",
      "def convert_to_int16(sig):\n",
      "    # convert into int16  to write as wave\n",
      "    sig = (sig/np.max(sig))*(2**14)\n",
      "    sig = sig.astype('int16')\n",
      "    return sig\n",
      "\n",
      "\n",
      "# this is a utility function that  finds the start and  end \n",
      "# of transmission in the numpy array of samples xf\n",
      "# The function looks for the first instance where the entries of xf\n",
      "# go above threshold and returns the index into xf where this happens\n",
      "# in start_idx\n",
      "# The function looks for the last instance where the entries of xf\n",
      "# are above threshold and returns the index into xf where this happens\n",
      "# in end_idx\n",
      "# \n",
      "# You will probably have to do some trial and error to get the threshold right\n",
      "# one possibility is to se the threshold equal to some factor of the maximum value\n",
      "# in the input signal,  e.g. 0.3 * maximum value in xf\n",
      "#\n",
      "def find_start_and_end(xf, threshold = 2000): \n",
      "    import numpy as np    \n",
      "    start_idx = -1\n",
      " \n",
      "    for k in range(0, len(xf)):\n",
      "        if(np.abs(xf[k])) > threshold:\n",
      "            start_idx = k\n",
      "            break\n",
      "\n",
      "    if(start_idx  < 0):\n",
      "        print \"Unable to detect start of transmission\"\n",
      "        return -1\n",
      "    \n",
      "    end_idx = -1\n",
      "    \n",
      "    for k in range(0, len(xf)):\n",
      "        if(np.abs(xf[len(xf)-k-1])) > threshold:\n",
      "            end_idx = len(xf)-k-1\n",
      "            break\n",
      "\n",
      "    if(end_idx < 0):\n",
      "        print \"Unable to detect end of transmission\"\n",
      "        return -1\n",
      "\n",
      "    return start_idx, end_idx\n",
      "\n",
      "\n",
      "\n",
      "def record_from_mic_windows(duration = 10, filename = 'AcousticModemRx.wav'):\n",
      "\n",
      "    import subprocess\n",
      "    import time\n",
      "    cmd = \"SoundRecorder /FILE %s /DURATION 0000:00:%2d\" % (filename, duration)\n",
      "    print subprocess.check_output(cmd, shell=True)\n",
      "\n",
      "    # wait for the recording to complete\n",
      "    time.sleep(duration+2)\n",
      "  \n",
      "    # because soundrecorder in windows cannot set the sample rate \n",
      "    # we have to manually resample here\n",
      "\n",
      "    # read the wave file into sig      \n",
      "    fs, sig = wavfile.read(filename)\n",
      "    \n",
      "    \n",
      "    # if fs not 44100, return an error\n",
      "    if (fs != 44100):\n",
      "        print \"Sample rate must be 44100. Found it to be %d\" % fs\n",
      "        print \"Please change it in Windows Control Panel -> Sound -> Recording -> Microphone -> Advanced\"\n",
      "        return\n",
      "    \n",
      "    # discard one of the stereo channels\n",
      "    sig = sig[:,0]\n",
      "    \n",
      "    # make a lowpass filter with cutoff 4410\n",
      "    # this is going to be our anti-aliasing filter\n",
      "    ts = np.arange(0, len(sig)/float(fs), 1/float(fs))\n",
      "    filt = np.sinc(np.arange(-64/float(fs), 64/float(fs), 1/float(fs))/np.pi * 4410.0*2*np.pi)\n",
      "    \n",
      "    # lowpass filter the signal to avoid inadvertent aliasing\n",
      "    sig_down = np.convolve(filt, sig)\n",
      "    \n",
      "    # Downsample by 5 to go from 44100 -> 8820Hz\n",
      "    sig_down = sig_down[0:len(sig_down): 5]\n",
      "     \n",
      "    return (8820, sig_down)\n",
      "\n",
      "\n",
      "\n",
      "def record_from_mic_linux(duration = 10, filename = 'AcousticModemRx.wav', rate = 8820):\n",
      "    import subprocess\n",
      "    import time\n",
      "    \n",
      "    # call arecord\n",
      "    cmd = \"arecord -d %d -r %d %s\" %(duration, rate, filename)   \n",
      "    subprocess.check_output(cmd, shell=True)\n",
      "    # wait for the recording to complete\n",
      "    time.sleep(duration+2)\n",
      "    fs, x = wavfile.read(filename)\n",
      "    return (fs,x)\n"
     ],
     "language": "python",
     "metadata": {},
     "outputs": [],
     "prompt_number": 93
    },
    {
     "cell_type": "markdown",
     "metadata": {},
     "source": [
      "You should first generate a BPSK transmitted signal on a different computer using AcousticModemTransmitter-NoPyAudio\n",
      "Before you hit play the audio signal on that computer, you should start recording the microphone input on your receiver computer (i.e. this one).  This will ensure that you do not miss the beginning of the transmission. \n",
      "\n",
      "You can record the audio signal using an audio recording program such as audacity (windows/linux), or arecord(linux if you have ALSA) and save it to AcousticModemRx.wav You should use 16bit-PCM data, a sample rate of 8820Hz and mono to make the recording. If you are running on windows, you can use record_from_mic_windows defined above.\n",
      "\n",
      "In Linux if you have ALSA installed, you can run arecord AcousticModemRx.wav to record and hit control-C to stop recording. "
     ]
    },
    {
     "cell_type": "markdown",
     "metadata": {},
     "source": [
      "In the following cell, the received BPSK audio signal is processed to decode the message. It is assumed that the audio signal is stored in AcousticModemRx.wav\n",
      "\n",
      "The BPSK bits are decoded using decode_bpsk_signal from the bpsk module. \n",
      "\n",
      "Your job is to design your own version of the  transmitter and decode_bpsk_signal. \n",
      "\n",
      "You will likely have to tweak the detection_threshold_factor here to make it work reliably for your set of computers/physical environment."
     ]
    },
    {
     "cell_type": "markdown",
     "metadata": {},
     "source": [
      "**The functions used in the receiver were all listed in the script, but are reproduced here for development purposes.  Some utility functions, such as levenshtein, helped us debug.**"
     ]
    },
    {
     "cell_type": "code",
     "collapsed": false,
     "input": [
      "def levenshtein(s1, s2):\n",
      "    if len(s1) < len(s2):\n",
      "        return levenshtein(s2, s1)\n",
      " \n",
      "    # len(s1) >= len(s2)\n",
      "    if len(s2) == 0:\n",
      "        return len(s1)\n",
      " \n",
      "    previous_row = range(len(s2) + 1)\n",
      "    for i, c1 in enumerate(s1):\n",
      "        current_row = [i + 1]\n",
      "        for j, c2 in enumerate(s2):\n",
      "            insertions = previous_row[j + 1] + 1 # j+1 instead of j since previous_row and current_row are one character longer\n",
      "            deletions = current_row[j] + 1       # than s2\n",
      "            substitutions = previous_row[j] + (c1 != c2)\n",
      "            current_row.append(min(insertions, deletions, substitutions))\n",
      "        previous_row = current_row\n",
      " \n",
      "    return previous_row[-1]\n",
      "\n",
      "def bits_to_signal(bits, symbol_len):\n",
      "    \"\"\"converts array of bits to a signal array, where -1 and 1 represent 0 and 1, and\n",
      "    control and transmission start/end bits are put in\"\"\"\n",
      "    symbol_len = int(symbol_len)\n",
      "    symbol_zeros = np.array([0]*symbol_len)\n",
      "    bits = [-1 if x==0 else x for x in bits]\n",
      "    square_signal = np.array([1]*250) #first bit transmitted is always one to help with synchronization\n",
      "    for bit in bits:\n",
      "        square_signal = np.hstack((square_signal, np.array([bit]*symbol_len)))\n",
      "    #append begin/end transmission bits\n",
      "    square_signal = np.hstack((symbol_zeros, square_signal, symbol_zeros))\n",
      "    return square_signal\n",
      "\n",
      "def generate_bpsk_signal(bits, rate = 8820, symbol_len = 250, freq = 1000):\n",
      "    square_signal = bits_to_signal(bits, symbol_len)\n",
      "    transmission_end_t = len(square_signal)/(1.0*rate)*2*np.pi\n",
      "    times = np.linspace(0,transmission_end_t,num=len(square_signal))\n",
      "    cos_signal = 7500*np.cos(freq*times)\n",
      "    bpsk_signal = np.multiply(cos_signal, square_signal)\n",
      "    return bpsk_signal\n",
      "\n",
      "def low_pass_filter(signal, rate, cutoff):\n",
      "    w = thinkdsp.Wave(signal, rate)\n",
      "    s = w.make_spectrum()\n",
      "    s.low_pass(cutoff)\n",
      "    return s.make_wave().ys\n",
      "\n",
      "def find_phase(fft):\n",
      "    max_component = max(fft, key=lambda f: abs(f))\n",
      "    return np.angle(max_component)\n",
      "\n",
      "import scipy.fftpack\n",
      "\n",
      "def demodulate(signal, samples_per_fft):\n",
      "    phases = np.array([])\n",
      "    for i in np.arange(0,len(signal),samples_per_fft):\n",
      "        try:\n",
      "            chunk = signal[i:i+samples_per_fft]\n",
      "        except:\n",
      "            chunk = signal[i:]\n",
      "        fft = scipy.fftpack.fft(chunk)\n",
      "        phases = np.hstack((phases, find_phase(fft)))\n",
      "    return phases\n",
      "\n",
      "def decode_phases(phases):\n",
      "    normalized = phases - np.mean(phases)\n",
      "    decoded_phases = [1 if p > 0 else 0 for p in normalized]\n",
      "    if decoded_phases[0] == 1:\n",
      "        #flip the bits if the 0th bit is 1 instead of zero.\n",
      "        decoded_phases = [1 if p == 0 else 0 for p in decoded_phases]\n",
      "    return decoded_phases\n",
      "\n",
      "def decode_bits(bits):\n",
      "    \"\"\"flips bits as nesseccesary.\"\"\"\n",
      "    if bits[1] == 0:\n",
      "        bits = [1 if b == 0 else 0 for b in bits]\n",
      "    return bits[1:]\n",
      "\n",
      "def cut_signal(x,detection_threshold_factor):\n",
      "    max_x = np.max(np.abs(x))\n",
      "    start, end = find_start_and_end(x,detection_threshold_factor*max_x)\n",
      "    return x[start:end]\n",
      "\n",
      "def decode_bpsk_signal(x, freq=1000, rate = 8000, symbol_len = 250, detection_threshold_factor = 0.3, LPFbw = 320):\n",
      "    x = cut_signal(x,detection_threshold_factor)\n",
      "    transmission_end_t = len(x)/(1.0*rate)*2*np.pi\n",
      "    times = np.linspace(0,transmission_end_t,num=len(x))\n",
      "    phase_offsets = np.linspace(0,2*np.pi,16)\n",
      "    filtered_signals = []\n",
      "    for phase_offset in phase_offsets:\n",
      "        cos_signal = np.cos(freq*times + phase_offset)\n",
      "        recovered_signal = np.multiply(x, cos_signal)\n",
      "        filtered_signal = low_pass_filter(recovered_signal, rate, LPFbw)\n",
      "        filtered_signals.append(filtered_signal)\n",
      "    best_signal = max(filtered_signals, key=lambda signal: max(signal))\n",
      "    best_signal = cut_signal(best_signal,detection_threshold_factor)\n",
      "    phases = demodulate(best_signal, samples_per_fft=symbol_len)\n",
      "    coded_bits = decode_phases(phases)\n",
      "    bits = decode_bits(coded_bits)\n",
      "    return bits"
     ],
     "language": "python",
     "metadata": {},
     "outputs": [],
     "prompt_number": 94
    },
    {
     "cell_type": "markdown",
     "metadata": {},
     "source": [
      "Here is the main program.  Mode of entry: the name of the .wav file.  Experimenting with the threshold factor may be necessary, as it was for our signal."
     ]
    },
    {
     "cell_type": "code",
     "collapsed": false,
     "input": [
      "def decode_signal(func, signal):\n",
      "    \"\"\"uses func to decode signal and returns message_string.\"\"\"\n",
      "    bits = func(signal, freq=1000, rate = fs, symbol_len = 250, detection_threshold_factor = 0.3, LPFbw = 320)\n",
      "    return NPbits2String(bits), bits"
     ],
     "language": "python",
     "metadata": {},
     "outputs": [],
     "prompt_number": 95
    },
    {
     "cell_type": "code",
     "collapsed": false,
     "input": [
      "import new_bpsk\n",
      "import bpsk\n",
      "fs, x = wavfile.read('AcousticModemRx_Wed1558.wav')\n",
      "\n",
      "# decode received signal into a numpy array of bits\n",
      "#my_msg, my_bits = decode_signal(new_bpsk.decode_bpsk_signal, x) \n",
      "my_bits =  new_bpsk.decode_bpsk_signal(x, freq=1000, rate = fs, symbol_len = 250, detection_threshold_factor = 0.7)\n",
      "my_msg = NPbits2String(my_bits)\n",
      "# note that the frequency of the recording is read and passed to decode\n",
      "sid_msg, sid_bits = decode_signal(bpsk.decode_bpsk_signal, x)\n",
      "correct_bits = string2NPArray('SigSys4Life')\n",
      "correct_bits = ''.join(map(lambda b: str(int(b)), correct_bits))\n",
      "\n",
      "print my_msg\n",
      "print sid_msg\n",
      "\n",
      "my_bits = ''.join(map(lambda b: str(b), my_bits))\n",
      "sid_bits = ''.join(map(lambda b: str(int(b)), sid_bits))\n",
      "print 'my bits'\n",
      "print my_bits\n",
      "print levenshtein(my_bits,correct_bits)\n",
      "print 'sid bits'\n",
      "print sid_bits\n",
      "print levenshtein(sid_bits,correct_bits)\n",
      "print 'correct bits'\n",
      "print correct_bits\n",
      "print 'correct number of bits:'\n",
      "print len(correct_bits)"
     ],
     "language": "python",
     "metadata": {},
     "outputs": [
      {
       "output_type": "stream",
       "stream": "stdout",
       "text": [
        "max val signal\n",
        "255\n",
        "max val signal"
       ]
      },
      {
       "output_type": "stream",
       "stream": "stdout",
       "text": [
        "\n",
        "69.3333139768\n",
        "SigSys4Life"
       ]
      },
      {
       "output_type": "stream",
       "stream": "stdout",
       "text": [
        "\n",
        "SigSys4Life\n",
        "my bits\n",
        "10100111101001110011110100111111001111001101101001001100110100111001101100101\n",
        "0\n",
        "sid bits\n",
        "10100111101001110011110100111111001111001101101001001100110100111001101100101\n",
        "0\n",
        "correct bits\n",
        "10100111101001110011110100111111001111001101101001001100110100111001101100101\n",
        "correct number of bits:\n",
        "77\n"
       ]
      }
     ],
     "prompt_number": 96
    },
    {
     "cell_type": "markdown",
     "metadata": {},
     "source": [
      "**Our Receiver is verified by comparison with the model**.  Here, we'll step through the parts of our receiver.  First, read in the recorded file and show the plot of the recording."
     ]
    },
    {
     "cell_type": "code",
     "collapsed": false,
     "input": [
      "fs, x = wavfile.read('AcousticModemRx_Wed1558.wav')\n",
      "mplib.plot(x)\n",
      "mplib.show()"
     ],
     "language": "python",
     "metadata": {},
     "outputs": [
      {
       "metadata": {},
       "output_type": "display_data",
       "png": "[encoded data removed]",
       "text": [
        "<matplotlib.figure.Figure at 0x7fbe144b6b90>"
       ]
      }
     ],
     "prompt_number": 97
    },
    {
     "cell_type": "markdown",
     "metadata": {},
     "source": [
      "Next, cut the signal based on the threshold factor (remove below some fraction of the max).  Then, demodulate the signal by multiplying by a cosine with 16 equally spaced phase offsets and keep the one with the greatest response. This corrects for the unknown phase difference between the transmission and the recording."
     ]
    },
    {
     "cell_type": "code",
     "collapsed": false,
     "input": [
      "freq=1000\n",
      "rate = fs\n",
      "symbol_len = 250\n",
      "detection_threshold_factor = 0.3\n",
      "LPFbw = 320\n",
      "\n",
      "cut = cut_signal(x,detection_threshold_factor = 0.3)\n",
      "transmission_end_t = len(x)/(1.0*rate)*2*np.pi\n",
      "times = np.linspace(0,transmission_end_t,num=len(x))\n",
      "phase_offsets = np.linspace(0,2*np.pi,16)\n",
      "filtered_signals = []\n",
      "for phase_offset in phase_offsets:\n",
      "    cos_signal = np.cos(freq*times + phase_offset)\n",
      "    recovered_signal = np.multiply(x, cos_signal)\n",
      "    filtered_signal = low_pass_filter(recovered_signal, rate, LPFbw)\n",
      "    filtered_signals.append(filtered_signal)\n",
      "best_signal = max(filtered_signals, key=lambda signal: max(signal))\n"
     ],
     "language": "python",
     "metadata": {},
     "outputs": [],
     "prompt_number": 98
    },
    {
     "cell_type": "code",
     "collapsed": false,
     "input": [
      "mplib.plot(best_signal)"
     ],
     "language": "python",
     "metadata": {},
     "outputs": [
      {
       "metadata": {},
       "output_type": "pyout",
       "prompt_number": 99,
       "text": [
        "[<matplotlib.lines.Line2D at 0x7fbe1402f090>]"
       ]
      },
      {
       "metadata": {},
       "output_type": "display_data",
       "png": "[encoded data removed]",
       "text": [
        "<matplotlib.figure.Figure at 0x7fbe140b9dd0>"
       ]
      }
     ],
     "prompt_number": 99
    },
    {
     "cell_type": "markdown",
     "metadata": {},
     "source": [
      "The demodulated signal looks promising - the pre-modulation square wave can be seen.  However, our thresholding didn't work here (in the code a factor of 0.7 is used from the beginning, but this shows the process we went through), so we will again cut the signal.  High-frequency components might also be hard to remove before the demodulation."
     ]
    },
    {
     "cell_type": "code",
     "collapsed": false,
     "input": [
      "cut_best,beginning,end = new_bpsk.cut_signal(best_signal,detection_threshold_factor = 0.4)\n",
      "mplib.plot(cut_best)"
     ],
     "language": "python",
     "metadata": {},
     "outputs": [
      {
       "output_type": "stream",
       "stream": "stdout",
       "text": [
        "max val signal\n",
        "69.7873693662\n"
       ]
      },
      {
       "metadata": {},
       "output_type": "pyout",
       "prompt_number": 100,
       "text": [
        "[<matplotlib.lines.Line2D at 0x7fbe13f6b190>]"
       ]
      },
      {
       "metadata": {},
       "output_type": "display_data",
       "png": "[encoded data removed]",
       "text": [
        "<matplotlib.figure.Figure at 0x7fbe13fc6e10>"
       ]
      }
     ],
     "prompt_number": 100
    },
    {
     "cell_type": "markdown",
     "metadata": {},
     "source": [
      "The square wave is increasingly clear.  We'll overlay the cut signal with the entire demodulated signal to show that we've extracted the correct portion."
     ]
    },
    {
     "cell_type": "code",
     "collapsed": false,
     "input": [
      "mplib.plot(best_signal)\n",
      "mplib.plot(np.linspace(beginning,end,len(cut_best)),cut_best)\n",
      "mplib.show()"
     ],
     "language": "python",
     "metadata": {},
     "outputs": [
      {
       "metadata": {},
       "output_type": "display_data",
       "png": "[encoded data removed]",
       "text": [
        "<matplotlib.figure.Figure at 0x7fbe13f98910>"
       ]
      }
     ],
     "prompt_number": 101
    },
    {
     "cell_type": "markdown",
     "metadata": {},
     "source": [
      "Now, we use the fft to find the complex frequencies, and then extract the angle of each segment.  We separate out the segments based on the symbol length and the sample rate."
     ]
    },
    {
     "cell_type": "code",
     "collapsed": false,
     "input": [
      "phases = new_bpsk.demodulate(cut_best, samples_per_fft=symbol_len)\n",
      "#note: it is known that this is not actually the demodulate step, demodulation is the multiplication by carrier frequency cosine, \n",
      "#but we don't really want to mess with the namespace now\n",
      "phases_uncut = new_bpsk.demodulate(best_signal, samples_per_fft=symbol_len)"
     ],
     "language": "python",
     "metadata": {},
     "outputs": [],
     "prompt_number": 102
    },
    {
     "cell_type": "code",
     "collapsed": false,
     "input": [
      "mplib.plot(phases)\n",
      "mplib.show()"
     ],
     "language": "python",
     "metadata": {},
     "outputs": [
      {
       "metadata": {},
       "output_type": "display_data",
       "png": "[encoded data removed]",
       "text": [
        "<matplotlib.figure.Figure at 0x7fbe13fdac50>"
       ]
      }
     ],
     "prompt_number": 103
    },
    {
     "cell_type": "markdown",
     "metadata": {},
     "source": [
      "The phases are nicely at 0 and pi.  Finally, convert the phases to [0,1] (decode_phases), flip if necessary based on the control bit (decode bits), and convert the proper bits to ascii."
     ]
    },
    {
     "cell_type": "code",
     "collapsed": false,
     "input": [
      "coded_bits = new_bpsk.decode_phases(phases)\n",
      "bits = new_bpsk.decode_bits(coded_bits)"
     ],
     "language": "python",
     "metadata": {},
     "outputs": [],
     "prompt_number": 104
    },
    {
     "cell_type": "code",
     "collapsed": false,
     "input": [
      "NPbits2String(bits)"
     ],
     "language": "python",
     "metadata": {},
     "outputs": [
      {
       "metadata": {},
       "output_type": "pyout",
       "prompt_number": 105,
       "text": [
        "'SigSys4Life'"
       ]
      }
     ],
     "prompt_number": 105
    },
    {
     "cell_type": "markdown",
     "metadata": {},
     "source": [
      "The signal was correctly decoded."
     ]
    }
   ],
   "metadata": {}
  }
 ]
}