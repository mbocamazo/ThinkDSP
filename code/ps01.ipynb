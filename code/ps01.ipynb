{
 "metadata": {
  "name": "ps01"
 }, 
 "nbformat": 2, 
 "worksheets": [
  {
   "cells": [
    {
     "cell_type": "code", 
     "collapsed": false, 
     "input": [
      "#This is the start of the chapter1 notebook, scratch from the reading, PS01 begins after a few cells", 
      "#Michael Bocamazo", 
      "from __future__ import print_function, division", 
      "print \"Hello World\"", 
      "import thinkdsp", 
      "import thinkplot", 
      "import matplotlib", 
      "%precision 3", 
      "%matplotlib inline", 
      "", 
      "cos_sig = thinkdsp.CosSignal(freq=440, amp = 1.0, offset = 0.0)", 
      "sin_sig = thinkdsp.SinSignal(freq=880, amp= 0.5, offset = 0.0)", 
      "mix = cos_sig + sin_sig", 
      "wave = mix.make_wave(duration = 0.5, start = 0, framerate = 11025)"
     ], 
     "language": "python", 
     "outputs": [
      {
       "output_type": "stream", 
       "stream": "stdout", 
       "text": [
        "Hello World"
       ]
      }
     ], 
     "prompt_number": 2
    }, 
    {
     "cell_type": "code", 
     "collapsed": true, 
     "input": [
      "", 
      "#wave.plot()", 
      "#matplotlib.pyplot.show()", 
      "period = mix.period", 
      "segment = wave.segment(start = 0, duration = period*3)", 
      "segment.plot()", 
      "#matplotlib.pyplot.show()"
     ], 
     "language": "python", 
     "outputs": [], 
     "prompt_number": 3
    }, 
    {
     "cell_type": "code", 
     "collapsed": false, 
     "input": [
      "violin_wave = thinkdsp.read_wave('violin_segment1.wav')", 
      "segment = violin_wave.segment(start = 5, duration = 5)", 
      "violin_wave.write(filename='example1.wav')", 
      "thinkdsp.play_wave(filename='example1.wav',player = 'aplay')"
     ], 
     "language": "python", 
     "outputs": [
      {
       "output_type": "stream", 
       "stream": "stdout", 
       "text": [
        "Writing example1.wav"
       ]
      }, 
      {
       "output_type": "stream", 
       "stream": "stderr", 
       "text": [
        "thinkdsp.py:870: UserWarning: Warning: normalizing before quantizing.", 
        "  warnings.warn('Warning: normalizing before quantizing.')"
       ]
      }
     ], 
     "prompt_number": 4
    }, 
    {
     "cell_type": "code", 
     "collapsed": false, 
     "input": [
      "spectrum = violin_wave.make_spectrum()", 
      "spectrum.plot()", 
      "thinkdsp.thinkplot.show()"
     ], 
     "language": "python", 
     "outputs": [
      {
       "output_type": "stream", 
       "stream": "stderr", 
       "text": [
        "/usr/lib/pymodules/python2.7/matplotlib/axes.py:4486: UserWarning: No labeled objects found. Use label='...' kwarg on individual plots.", 
        "  warnings.warn(\"No labeled objects found. \""
       ]
      }
     ], 
     "prompt_number": 5
    }, 
    {
     "cell_type": "code", 
     "collapsed": true, 
     "input": [
      "spectrum.low_pass(3000)", 
      "#spectrum.plot()", 
      "#matplotlib.pyplot.show()", 
      "filtered = spectrum.make_wave()", 
      "filtered.normalize()", 
      "filtered.apodize()", 
      "filtered.plot()", 
      "matplotlib.pyplot.show()"
     ], 
     "language": "python", 
     "outputs": [], 
     "prompt_number": 6
    }, 
    {
     "cell_type": "markdown", 
     "source": [
      "Beginning of PS01 Problems, Michael Bocamazo"
     ]
    }, 
    {
     "cell_type": "code", 
     "collapsed": false, 
     "input": [
      "trumpet_wave = thinkdsp.read_wave('trumpet.wav')", 
      "trumpet_wave.write(filename = 'example1.wav')", 
      "thinkdsp.play_wave(filename='example1.wav', player = 'aplay')"
     ], 
     "language": "python", 
     "outputs": [
      {
       "output_type": "stream", 
       "stream": "stdout", 
       "text": [
        "Writing example1.wav"
       ]
      }
     ], 
     "prompt_number": 7
    }, 
    {
     "cell_type": "code", 
     "collapsed": true, 
     "input": [
      "trumpet_wave.plot()", 
      "thinkdsp.thinkplot.show()"
     ], 
     "language": "python", 
     "outputs": [], 
     "prompt_number": 8
    }, 
    {
     "cell_type": "code", 
     "collapsed": true, 
     "input": [
      "segment = trumpet_wave.segment(start = 1.04, duration = 0.06)", 
      "segment.plot()", 
      "thinkdsp.thinkplot.show()"
     ], 
     "language": "python", 
     "outputs": [], 
     "prompt_number": 9
    }, 
    {
     "cell_type": "markdown", 
     "source": [
      "I chose part of the first note because it seemed like it had a constant pitch.  By examination, it is conceivable that this segment is composed of sinusoids."
     ]
    }, 
    {
     "cell_type": "code", 
     "collapsed": false, 
     "input": [
      "spectrum = segment.make_spectrum()", 
      "spectrum.plot()", 
      "thinkdsp.thinkplot.show()"
     ], 
     "language": "python", 
     "outputs": [], 
     "prompt_number": 10
    }, 
    {
     "cell_type": "markdown", 
     "source": [
      "At first glance, this doesn't appear to have a harmonic structure, or not one as nice as the synthetic sounds.  If the spectra is examined at frequencies less than 5000 Hz, and then one zooms in on the lowest frequencies, it looks like the dominant frequencies are multiples of 230 Hz, with the dominant frequency at about 700 Hz.  This should mean that the frequency perceived as fundamental is 230 Hz."
     ]
    }, 
    {
     "cell_type": "code", 
     "collapsed": false, 
     "input": [
      "segment2 = trumpet_wave.segment(start = 0.9, duration = 0.2)", 
      "spectrum2 = segment2.make_spectrum()", 
      "segment2.write(filename = 'example2.wav')", 
      "thinkdsp.play_wave(filename='example2.wav',player='aplay')"
     ], 
     "language": "python", 
     "outputs": [
      {
       "output_type": "stream", 
       "stream": "stdout", 
       "text": [
        "Writing example2.wav"
       ]
      }
     ], 
     "prompt_number": 12
    }, 
    {
     "cell_type": "code", 
     "collapsed": false, 
     "input": [
      "spectrum2.high_pass(650)", 
      "filtered = spectrum2.make_wave()", 
      "filtered.write(filename = 'example3.wav')", 
      "thinkdsp.play_wave(filename='example3.wav',player='aplay')", 
      "\"\"\"", 
      "filtered.normalize()", 
      "filtered.apodize()", 
      "filtered.write(filename = 'example3.wav')", 
      "thinkdsp.play_wave(filename='example3.wav',player='aplay')", 
      "\"\"\" ", 
      "#normalizing and apodizing doesn't seem to make a difference"
     ], 
     "language": "python", 
     "outputs": [
      {
       "output_type": "stream", 
       "stream": "stdout", 
       "text": [
        "Writing example3.wav"
       ]
      }, 
      {
       "output_type": "pyout", 
       "prompt_number": 13, 
       "text": [
        "\"\\nfiltered.normalize()\\nfiltered.apodize()\\nfiltered.write(filename = 'example3.wav')\\nthinkdsp.play_wave(filename='example3.wav',player='aplay')\\n\""
       ]
      }
     ], 
     "prompt_number": 13
    }, 
    {
     "cell_type": "markdown", 
     "source": [
      "The pitch seems to change slightly, which might contradict what we have said about the perceived fundamental.  However, I don't have a trained ear for pitch, so I can't really tell."
     ]
    }, 
    {
     "cell_type": "code", 
     "collapsed": false, 
     "input": [
      "spectrum2.low_pass(2000)", 
      "filtered = spectrum2.make_wave()", 
      "filtered.write(filename = 'example4.wav')", 
      "thinkdsp.play_wave(filename='example4.wav',player='aplay')"
     ], 
     "language": "python", 
     "outputs": [
      {
       "output_type": "stream", 
       "stream": "stdout", 
       "text": [
        "Writing example4.wav"
       ]
      }
     ], 
     "prompt_number": 14
    }, 
    {
     "cell_type": "markdown", 
     "source": [
      "A low pass at 2000 Hz does seem to change the timbre"
     ]
    }, 
    {
     "cell_type": "code", 
     "collapsed": false, 
     "input": [
      "spectrum2.low_pass(1000)", 
      "filtered = spectrum2.make_wave()", 
      "filtered.write(filename = 'example5.wav')", 
      "thinkdsp.play_wave(filename='example5.wav',player='aplay')"
     ], 
     "language": "python", 
     "outputs": [
      {
       "output_type": "stream", 
       "stream": "stdout", 
       "text": [
        "Writing example5.wav"
       ]
      }
     ], 
     "prompt_number": 15
    }, 
    {
     "cell_type": "markdown", 
     "source": [
      "And at 1000 Hz more so"
     ]
    }, 
    {
     "cell_type": "code", 
     "collapsed": false, 
     "input": [
      "spectrum3 = segment2.make_spectrum() #remake the spectrum from the segment", 
      "spectrum3.band_stop(650, 2000)", 
      "filtered = spectrum3.make_wave()", 
      "filtered.write(filename = 'example6.wav')", 
      "thinkdsp.play_wave(filename='example6.wav',player='aplay')"
     ], 
     "language": "python", 
     "outputs": [
      {
       "output_type": "stream", 
       "stream": "stdout", 
       "text": [
        "Writing example6.wav"
       ]
      }
     ], 
     "prompt_number": 16
    }, 
    {
     "cell_type": "markdown", 
     "source": [
      "Sounds very different, now that the dominant was removed, almost like a human voice.  The harmony should still be present, given that the spikes in frequency are multiples of the fundamental; it doesn't sound like noise."
     ]
    }, 
    {
     "cell_type": "code", 
     "collapsed": false, 
     "input": [
      "cos_sig = thinkdsp.CosSignal(freq=440, amp = 1.0, offset = 0.0)", 
      "sin_sig = thinkdsp.SinSignal(freq=880, amp= 0.5, offset = 0.0)", 
      "mix = cos_sig + sin_sig", 
      "mix = mix + thinkdsp.CosSignal(freq=440*5, amp = 4.0, offset = 0.0)", 
      "mix = mix + thinkdsp.CosSignal(freq=440*8, amp = 2.0, offset = 0.0)", 
      "#mix = mix + thinkdsp.CosSignal(freq=440*10, amp = 1.0, offset = 0.0)", 
      "wave = mix.make_wave(duration = 1, start = 0, framerate = 22050)"
     ], 
     "language": "python", 
     "outputs": [], 
     "prompt_number": 20
    }, 
    {
     "cell_type": "code", 
     "collapsed": true, 
     "input": [
      "period = mix.period", 
      "segment = wave.segment(start = 0, duration = period*2)", 
      "segment.plot()", 
      "matplotlib.pyplot.show()"
     ], 
     "language": "python", 
     "outputs": [], 
     "prompt_number": 21
    }, 
    {
     "cell_type": "code", 
     "collapsed": false, 
     "input": [
      "wave.write(filename = 'example6.wav')", 
      "thinkdsp.play_wave(filename='example6.wav',player='aplay')"
     ], 
     "language": "python", 
     "outputs": [
      {
       "output_type": "stream", 
       "stream": "stdout", 
       "text": [
        "Writing example6.wav"
       ]
      }
     ], 
     "prompt_number": 22
    }, 
    {
     "cell_type": "markdown", 
     "source": [
      "So far, sounds like an synthetic tone (as it should) without much timbre.  The fundamental is 440 Hz."
     ]
    }, 
    {
     "cell_type": "code", 
     "collapsed": false, 
     "input": [
      "mix = mix + thinkdsp.CosSignal(freq=500, amp = 1.0, offset = 0.0)", 
      "wave = mix.make_wave(duration = 1, start = 0, framerate = 22050)", 
      "wave.write(filename = 'example7.wav')", 
      "thinkdsp.play_wave(filename='example7.wav',player='aplay')"
     ], 
     "language": "python", 
     "outputs": [
      {
       "output_type": "stream", 
       "stream": "stdout", 
       "text": [
        "Writing example7.wav"
       ]
      }
     ], 
     "prompt_number": 23
    }, 
    {
     "cell_type": "markdown", 
     "source": [
      "Not much different so far, but with an underlying dissonant tone"
     ]
    }, 
    {
     "cell_type": "code", 
     "collapsed": false, 
     "input": [
      "mix = mix + thinkdsp.CosSignal(freq=700, amp = 1.0, offset = 0.0)", 
      "wave = mix.make_wave(duration = 1, start = 0, framerate = 22050)", 
      "wave.write(filename = 'example8.wav')", 
      "thinkdsp.play_wave(filename='example8.wav',player='aplay')"
     ], 
     "language": "python", 
     "outputs": [
      {
       "output_type": "stream", 
       "stream": "stdout", 
       "text": [
        "Writing example8.wav"
       ]
      }
     ], 
     "prompt_number": 24
    }, 
    {
     "cell_type": "markdown", 
     "source": [
      "Not much more different"
     ]
    }, 
    {
     "cell_type": "code", 
     "collapsed": false, 
     "input": [
      "mix = mix + thinkdsp.CosSignal(freq=851, amp = 1.0, offset = 0.0)", 
      "mix = mix + thinkdsp.CosSignal(freq=637, amp = 1.0, offset = 1.0)", 
      "mix = mix + thinkdsp.CosSignal(freq=537, amp = 1.0, offset = 1.0)", 
      "mix = mix + thinkdsp.CosSignal(freq=937, amp = 1.0, offset = 1.0)", 
      "wave = mix.make_wave(duration = 1, start = 0, framerate = 22050)", 
      "wave.write(filename = 'example9.wav')", 
      "thinkdsp.play_wave(filename='example9.wav',player='aplay')"
     ], 
     "language": "python", 
     "outputs": [
      {
       "output_type": "stream", 
       "stream": "stdout", 
       "text": [
        "Writing example9.wav"
       ]
      }
     ], 
     "prompt_number": 25
    }, 
    {
     "cell_type": "markdown", 
     "source": [
      "Starting to get bothersome, not quite noise-like, but piercing."
     ]
    }, 
    {
     "cell_type": "code", 
     "collapsed": false, 
     "input": [
      "from thinkdsp import Sinusoid", 
      "import numpy", 
      "class SawtoothSignal(Sinusoid):  ", 
      "    def evaluate(self, ts):", 
      "        \"\"\"", 
      "        ts: float array of times", 
      "        \"\"\"", 
      "        #return val = (fractional_cycle - 0.5)*amp*2, with adjustment for the offset", 
      "        #the fractional_cycle is the mod of the cycles with the time        ", 
      "        frac, _ = numpy.modf(self.freq*ts+self.offset/6.28)", 
      "        ys = self.amp*2*(frac-0.5)", 
      "        return ys", 
      "    "
     ], 
     "language": "python", 
     "outputs": [], 
     "prompt_number": 26
    }, 
    {
     "cell_type": "code", 
     "collapsed": false, 
     "input": [
      "saw = SawtoothSignal(freq = 440, amp = 1.0, offset = 0.0)", 
      "saw_wave = saw.make_wave(duration = 1, start = 0, framerate = 11025)", 
      "period = saw.period", 
      "segment = saw_wave.segment(start = 0, duration = period*3)", 
      "segment.plot()", 
      "thinkdsp.thinkplot.show()"
     ], 
     "language": "python", 
     "outputs": [], 
     "prompt_number": 27
    }, 
    {
     "cell_type": "code", 
     "collapsed": true, 
     "input": [
      "saw_spectrum = saw_wave.make_spectrum()", 
      "saw_spectrum.plot()", 
      "thinkdsp.thinkplot.show()"
     ], 
     "language": "python", 
     "outputs": [], 
     "prompt_number": 28
    }, 
    {
     "cell_type": "markdown", 
     "source": [
      "The largest spikes in the harmonics look like they fall off geometrically.  The dominant frequency is 440 Hz, which makes sense because that is the frequency of the sawtooth wave."
     ]
    }, 
    {
     "cell_type": "code", 
     "collapsed": false, 
     "input": [
      "square = thinkdsp.SquareSignal(freq = 440, amp = 1.0, offset = 0.0)", 
      "square_wave = square.make_wave(duration = 1, start = 0, framerate = 11025)", 
      "square_spectrum = square_wave.make_spectrum()", 
      "square_spectrum.plot()", 
      "thinkdsp.thinkplot.show()"
     ], 
     "language": "python", 
     "outputs": [], 
     "prompt_number": 29
    }, 
    {
     "cell_type": "markdown", 
     "source": [
      "The harmonics have lower amplitude, and the off-harmonics aren't continuous as they are in the saw spectrum; I suppose the continuous spectrum is necessary in the sawtooth signal because of its asymmetry.  There are about half as many tall harmonics with a sharper geometric fall-off."
     ]
    }, 
    {
     "cell_type": "code", 
     "collapsed": true, 
     "input": [
      "triangle = thinkdsp.TriangleSignal(freq = 440, amp = 1.0, offset = 0.0)", 
      "triangle_wave = triangle.make_wave(duration = 1, start = 0, framerate = 11025)", 
      "triangle_spectrum = triangle_wave.make_spectrum()", 
      "triangle_spectrum.plot()", 
      "thinkdsp.thinkplot.show()"
     ], 
     "language": "python", 
     "outputs": [], 
     "prompt_number": 30
    }, 
    {
     "cell_type": "markdown", 
     "source": [
      "In the square wave, there are no off-harmonics, and the fall-off in the amplitude of the harmonics is much steeper."
     ]
    }, 
    {
     "cell_type": "code", 
     "collapsed": false, 
     "input": [
      "triangle = thinkdsp.TriangleSignal(freq = 1100, amp = 1.0, offset = 0.0)", 
      "triangle_wave = triangle.make_wave(duration = 1, start = 0, framerate = 11000)", 
      "triangle_wave.write(filename = 'example10.wav')", 
      "thinkdsp.play_wave(filename='example10.wav',player='aplay')", 
      "", 
      "triangle = thinkdsp.TriangleSignal(freq = 2200, amp = 1.0, offset = 0.0)", 
      "triangle_wave = triangle.make_wave(duration = 1, start = 0, framerate = 11000)", 
      "triangle_wave.write(filename = 'example10.wav')", 
      "thinkdsp.play_wave(filename='example10.wav',player='aplay')"
     ], 
     "language": "python", 
     "outputs": [
      {
       "output_type": "stream", 
       "stream": "stdout", 
       "text": [
        "Writing example10.wav", 
        "Writing"
       ]
      }, 
      {
       "output_type": "stream", 
       "stream": "stdout", 
       "text": [
        " example10.wav"
       ]
      }
     ], 
     "prompt_number": 31
    }, 
    {
     "cell_type": "markdown", 
     "source": [
      "I was able to hear the aliasing at 2200 Hz, but not at 1100 Hz, judging from the audio example at http://en.wikipedia.org/wiki/File:Sawtooth-aliasingdemo.ogg"
     ]
    }, 
    {
     "cell_type": "code", 
     "collapsed": true, 
     "input": [
      "triangle = thinkdsp.TriangleSignal(freq = 1100, amp = 1.0, offset = 0.0)", 
      "triangle_wave = triangle.make_wave(duration = 1, start = 0, framerate = 11025)", 
      "triangle_spectrum = triangle_wave.make_spectrum()", 
      "triangle_spectrum.plot()", 
      "thinkdsp.thinkplot.show()"
     ], 
     "language": "python", 
     "outputs": [], 
     "prompt_number": 32
    }, 
    {
     "cell_type": "code", 
     "collapsed": true, 
     "input": [
      "square = thinkdsp.SquareSignal(freq = 1100, amp = 1.0, offset = 0.0)", 
      "square_wave = square.make_wave(duration = 1, start = 0, framerate = 11025)", 
      "square_spectrum = square_wave.make_spectrum()", 
      "square_spectrum.plot()", 
      "thinkdsp.thinkplot.show()"
     ], 
     "language": "python", 
     "outputs": [], 
     "prompt_number": 33
    }, 
    {
     "cell_type": "markdown", 
     "source": [
      "The triangle wave has frequencies of lower amplitude and very small off-harmonics necessary to make the minor adjustments for construction.  In the square wave, much more destructive interference is necessary to produce the consistency of the half-period with the dramatic shift of the switch, so the amplitudes are on the whole greater."
     ]
    }, 
    {
     "cell_type": "markdown", 
     "source": [
      "10)  The triangle and square waves have odd harmonics only; the sawtooth wave has both even and odd harmonics. The harmonics of the square and sawtooth waves drop off in proportion to 1/f; the harmonics of the triangle wave drop off like 1/f2. Can you find a waveform that has even and odd harmonics that drop off like 1/f^2?", 
      "", 
      "I suppose one could be generated, then inverted to make a wave."
     ]
    }, 
    {
     "cell_type": "code", 
     "collapsed": false, 
     "input": [
      "cos_sig = thinkdsp.CosSignal(freq=440, amp = 440**2*1.0/440**2, offset = 0.0) #multiply by 440 to get initial amplitude of 1", 
      "for i in range(2,7):", 
      "    cos_sig = cos_sig+thinkdsp.CosSignal(freq=440*i, amp = 440**2*1/((440*i)**2), offset = 0.0)", 
      "", 
      "period = cos_sig.period", 
      "segment = cos_sig.make_wave(duration = period*3, start = 0, framerate = 11025)", 
      "segment.plot()", 
      "thinkdsp.thinkplot.show()"
     ], 
     "language": "python", 
     "outputs": [], 
     "prompt_number": 34
    }, 
    {
     "cell_type": "markdown", 
     "source": [
      "So far, looks like a sinusoid, let's invert again to see what the DFT yields"
     ]
    }, 
    {
     "cell_type": "code", 
     "collapsed": false, 
     "input": [
      "spectrum = segment.make_spectrum()", 
      "spectrum.plot()", 
      "thinkdsp.thinkplot.show()"
     ], 
     "language": "python", 
     "outputs": [], 
     "prompt_number": 35
    }, 
    {
     "cell_type": "markdown", 
     "source": [
      "Doesn't quite look like a sinusoid, because we would expect a single peak, but the small sample of three periods might not be sufficient"
     ]
    }, 
    {
     "cell_type": "code", 
     "collapsed": true, 
     "input": [
      "wave = cos_sig.make_wave(duration = 1, start = 0, framerate = 11025)", 
      "spectrum  = wave.make_spectrum()", 
      "spectrum.plot()", 
      "thinkdsp.thinkplot.show()"
     ], 
     "language": "python", 
     "outputs": [], 
     "prompt_number": 36
    }, 
    {
     "cell_type": "markdown", 
     "source": [
      "We get a single peak, as expected from the plot.  I suppose with further investigation into the math we'll find why even+odd harmonics with fall-off of 1/f^2 yields simplifies down to the fundamental."
     ]
    }
   ]
  }
 ]
}